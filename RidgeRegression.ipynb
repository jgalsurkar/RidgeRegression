{
 "cells": [
  {
   "cell_type": "code",
   "execution_count": 1,
   "metadata": {
    "collapsed": true
   },
   "outputs": [],
   "source": [
    "#Imports\n",
    "import numpy as np\n",
    "import matplotlib.pyplot as plt\n",
    "\n",
    "%matplotlib inline"
   ]
  },
  {
   "cell_type": "markdown",
   "metadata": {},
   "source": [
    "### Ridge Regression Class"
   ]
  },
  {
   "cell_type": "code",
   "execution_count": 2,
   "metadata": {
    "collapsed": true
   },
   "outputs": [],
   "source": [
    "class Ridge(object):\n",
    "    \"\"\"Linear least squares with l2 regularization\n",
    "    \n",
    "    Parameters\n",
    "    ----------\n",
    "    X : {array-like, sparse matrix},\n",
    "    shape = [n_samples, n_features]\n",
    "        Training data\n",
    "    \n",
    "    y : array-like, shape = [n_samples]\n",
    "        Training targets\n",
    "    \n",
    "    \"\"\"\n",
    "    def __init__(self, X, y):\n",
    "        #Singlular-value decomposition is done for efficiency\n",
    "        self.U, self.S, self.V = np.linalg.svd(X, full_matrices = False)\n",
    "        self.y = y\n",
    "        self.info = {}\n",
    "        \n",
    "    def train(self, lambda_par):\n",
    "        \"\"\"Train the Ridge Regression model\n",
    "\n",
    "        Parameters\n",
    "        ----------\n",
    "        lambda_par : float\n",
    "            Regularization strength; must be a positive float.\n",
    "        \"\"\"\n",
    "        if lambda_par not in self.info:\n",
    "            s_inv = np.diag(list(map((lambda x: x / (lambda_par + x**2)), self.S))) #compute S inverse\n",
    "            w = np.dot(np.dot(np.dot(self.V.T, s_inv), self.U.T), self.y) # Compute the weights\n",
    "            df = sum(list(map((lambda x: x**2 / (lambda_par + x**2)), self.S))) # Compute degrees of freedom\n",
    "            self.info[lambda_par] = (w, df) # Save the weights and degrees of freedom for the lambda\n",
    "    \n",
    "    def predict(self, X_test, lambda_par):\n",
    "        \"\"\"Use the trained model to make predictions on the test set\n",
    "\n",
    "        Parameters\n",
    "        ----------\n",
    "        X_test : {array-like, sparse matrix},\n",
    "        shape = [n_samples, n_features]\n",
    "            Test data\n",
    "        \n",
    "        lambda_par : float\n",
    "            Regularization strength; must be a positive float.\n",
    "        \n",
    "        Returns\n",
    "        ----------\n",
    "        prediction : float\n",
    "            Model prediction on test data\n",
    "        \"\"\"\n",
    "        if lambda_par in self.info:\n",
    "            prediction = np.dot(X_test, self.info[lambda_par][0])\n",
    "            return prediction\n",
    "    \n",
    "    def multi_train(self, lambdas):\n",
    "        \"\"\"Train multiple Ridge Regression models with different regularization\n",
    "\n",
    "        Parameters\n",
    "        ----------\n",
    "        lambdas : array-like\n",
    "            Multiple regularization strength values\n",
    "        \"\"\"\n",
    "        for lambda_par in lambdas:\n",
    "            self.train(lambda_par)\n",
    "    \n",
    "    def multi_predict(self, X_test, lambdas):\n",
    "        \"\"\"Use the weights for the given lambdas to make predictions on the test set\n",
    "\n",
    "        Parameters\n",
    "        ----------\n",
    "        X_test : {array-like, sparse matrix},\n",
    "        shape = [n_samples, n_features]\n",
    "            Test data\n",
    "        \n",
    "        lambdas : array-like\n",
    "            Multiple regularization strength values\n",
    "            \n",
    "        Returns\n",
    "        ----------\n",
    "        predictions : dict\n",
    "            Predictions associated with each lambda parameter\n",
    "        \"\"\"\n",
    "        predictions = {lambda_par : self.predict(X_test, lambda_par) for lambda_par in lambdas}\n",
    "        return predictions"
   ]
  },
  {
   "cell_type": "markdown",
   "metadata": {},
   "source": [
    "### Read in our data"
   ]
  },
  {
   "cell_type": "code",
   "execution_count": 3,
   "metadata": {
    "collapsed": true
   },
   "outputs": [],
   "source": [
    "X_train = np.loadtxt(open('X_train.csv', 'rb'), delimiter = ',')\n",
    "y_train = np.loadtxt(open('Y_train.csv', 'rb'), delimiter = ',')\n",
    "X_test = np.loadtxt(open('X_test.csv', 'rb'), delimiter = ',')\n",
    "y_test = np.loadtxt(open('Y_test.csv', 'rb'), delimiter = ',')"
   ]
  },
  {
   "cell_type": "markdown",
   "metadata": {},
   "source": [
    "### Test Various Regularization Values"
   ]
  },
  {
   "cell_type": "code",
   "execution_count": 4,
   "metadata": {
    "collapsed": true
   },
   "outputs": [],
   "source": [
    "regularization_values = np.arange(0, 5001,1)"
   ]
  },
  {
   "cell_type": "code",
   "execution_count": 5,
   "metadata": {},
   "outputs": [],
   "source": [
    "ridge_regressors = Ridge(X_train, y_train)\n",
    "ridge_regressors.multi_train(regularization_values)"
   ]
  },
  {
   "cell_type": "code",
   "execution_count": 6,
   "metadata": {},
   "outputs": [
    {
     "data": {
      "text/plain": [
       "<matplotlib.legend.Legend at 0x10e5aef98>"
      ]
     },
     "execution_count": 6,
     "metadata": {},
     "output_type": "execute_result"
    },
    {
     "data": {
      "image/png": "[encoded data removed]",
      "text/plain": [
       "<matplotlib.figure.Figure at 0x10e6a5048>"
      ]
     },
     "metadata": {},
     "output_type": "display_data"
    }
   ],
   "source": [
    "all_weights = np.matrix([ridge_regressors.info[lambda_param][0] for lambda_param in regularization_values]).T\n",
    "all_dfs = [ridge_regressors.info[lambda_param][1] for lambda_param in regularization_values]\n",
    "for i in range(X_train.shape[1]):\n",
    "    plt.plot(all_dfs, all_weights[i].A1, label = str(i+1))\n",
    "plt.ylim([-6,5])\n",
    "plt.xlim([0,7.3])\n",
    "plt.title('Feature Values Vs. Degrees of Freedom')\n",
    "plt.xlabel('DF(lambda)')\n",
    "plt.ylabel('Feature Value')\n",
    "plt.legend(title = 'Dimension', loc='center left', bbox_to_anchor=(.95, 0.5))"
   ]
  },
  {
   "cell_type": "markdown",
   "metadata": {},
   "source": [
    "### Prediction Error"
   ]
  },
  {
   "cell_type": "code",
   "execution_count": 7,
   "metadata": {},
   "outputs": [],
   "source": [
    "predictions = ridge_regressors.multi_predict(X_test, np.arange(0, 51,1))"
   ]
  },
  {
   "cell_type": "code",
   "execution_count": 8,
   "metadata": {
    "collapsed": true
   },
   "outputs": [],
   "source": [
    "def RMSE(y_test, predicted):\n",
    "    \"\"\"Compute the Root Mean Squared Error between test target and predictions\n",
    "\n",
    "    Parameters\n",
    "    ----------\n",
    "    y_test : {array-like, sparse matrix},\n",
    "    shape = [n_samples]\n",
    "        Test targets\n",
    "        \n",
    "    predicted : {array-like, sparse matrix},\n",
    "    shape = [n_samples]\n",
    "        predictions made on the test data\n",
    "        \n",
    "    Returns\n",
    "    ----------\n",
    "    rmse : float\n",
    "        Root mean squared error between test targets and predictions\n",
    "    \"\"\"    \n",
    "    rmse = np.sqrt(((y_test - predicted)**2).mean())\n",
    "    return rmse "
   ]
  },
  {
   "cell_type": "code",
   "execution_count": 9,
   "metadata": {
    "collapsed": true
   },
   "outputs": [],
   "source": [
    "all_rmse = [RMSE(y_test, predictions[lambda_param]) for lambda_param in np.arange(0, 51,1)]"
   ]
  },
  {
   "cell_type": "code",
   "execution_count": 10,
   "metadata": {},
   "outputs": [
    {
     "data": {
      "text/plain": [
       "<matplotlib.text.Text at 0x10e88c4e0>"
      ]
     },
     "execution_count": 10,
     "metadata": {},
     "output_type": "execute_result"
    },
    {
     "data": {
      "image/png": "[encoded data removed]",
      "text/plain": [
       "<matplotlib.figure.Figure at 0x10e5aea90>"
      ]
     },
     "metadata": {},
     "output_type": "display_data"
    }
   ],
   "source": [
    "plt.plot(np.arange(0, 51,1), all_rmse)\n",
    "plt.ylim([2.4,3])\n",
    "plt.xlim([0,52])\n",
    "plt.title('Root Mean Squared Error Vs. Lambda')\n",
    "plt.xlabel('lambda')\n",
    "plt.ylabel('RMSE')\n"
   ]
  },
  {
   "cell_type": "markdown",
   "metadata": {},
   "source": [
    "### Learning a pth-order polynomial regression model for p = 1, 2, 3"
   ]
  },
  {
   "cell_type": "code",
   "execution_count": 11,
   "metadata": {
    "collapsed": true
   },
   "outputs": [],
   "source": [
    "def add_order_p(X, num_features, order):\n",
    "    \"\"\"Add p-th order polynomial to the data\n",
    "\n",
    "    Parameters\n",
    "    ----------\n",
    "    X : {array-like, sparse matrix},\n",
    "    shape = [n_samples, n_features]\n",
    "        data\n",
    "        \n",
    "    num_features : Integer\n",
    "        Current number of features in the data\n",
    "        \n",
    "    order : Integer\n",
    "        p-th order polynomial feature to add\n",
    "        \n",
    "    Returns\n",
    "    ----------\n",
    "    X_new : array-like\n",
    "        Data with new p-th order polynomial feature added\n",
    "    \"\"\"  \n",
    "    X_new = X.copy()\n",
    "    for i in range(num_features):\n",
    "        col = np.power(X_new[:, i], order)\n",
    "        X_new = np.append(X_new, col[:, None], axis = 1)\n",
    "    return X_new"
   ]
  },
  {
   "cell_type": "code",
   "execution_count": 12,
   "metadata": {
    "collapsed": true
   },
   "outputs": [],
   "source": [
    "regularization_values = np.arange(0, 501, 1)"
   ]
  },
  {
   "cell_type": "code",
   "execution_count": 13,
   "metadata": {},
   "outputs": [],
   "source": [
    "p1_regressors = Ridge(X_train, y_train)\n",
    "p1_regressors.multi_train(regularization_values)\n",
    "predictions_p1 = p1_regressors.multi_predict(X_test, regularization_values)\n",
    "p1rmse = [RMSE(y_test, predictions_p1[lambda_param]) for lambda_param in regularization_values]"
   ]
  },
  {
   "cell_type": "code",
   "execution_count": 14,
   "metadata": {},
   "outputs": [],
   "source": [
    "p2_train, p2_test = add_order_p(X_train, X_train.shape[1], 2), add_order_p(X_test, X_test.shape[1], 2)\n",
    "p2_regressors = Ridge(p2_train, y_train)\n",
    "p2_regressors.multi_train(regularization_values)\n",
    "predictions_p2 = p2_regressors.multi_predict(p2_test, regularization_values)\n",
    "p2rmse = [RMSE(y_test, predictions_p2[lambda_param]) for lambda_param in regularization_values]"
   ]
  },
  {
   "cell_type": "code",
   "execution_count": 15,
   "metadata": {
    "collapsed": true
   },
   "outputs": [],
   "source": [
    "p3_train, p3_test = add_order_p(p2_train, X_train.shape[1], 3), add_order_p(p2_test, X_test.shape[1], 3)\n",
    "p3_regressors = Ridge(p3_train, y_train)\n",
    "p3_regressors.multi_train(regularization_values)\n",
    "predictions_p3 = p3_regressors.multi_predict(p3_test, regularization_values)\n",
    "p3rmse = [RMSE(y_test, predictions_p3[lambda_param]) for lambda_param in regularization_values]"
   ]
  },
  {
   "cell_type": "code",
   "execution_count": 25,
   "metadata": {},
   "outputs": [
    {
     "data": {
      "text/plain": [
       "<matplotlib.legend.Legend at 0x10fa78198>"
      ]
     },
     "execution_count": 25,
     "metadata": {},
     "output_type": "execute_result"
    },
    {
     "data": {
      "image/png": "[encoded data removed]",
      "text/plain": [
       "<matplotlib.figure.Figure at 0x10f7dccf8>"
      ]
     },
     "metadata": {},
     "output_type": "display_data"
    }
   ],
   "source": [
    "plt.plot(regularization_values, p1rmse, label = 'p = 1')\n",
    "plt.plot(regularization_values, p2rmse, label = 'p = 2')\n",
    "plt.plot(regularization_values, p3rmse, label = 'p = 3')\n",
    "plt.ylim([2,3.6])\n",
    "plt.xlim([-1,510])\n",
    "plt.title('RMSE Vs. Lambda of different order polynomials')\n",
    "plt.xlabel('lambda')\n",
    "plt.ylabel('RMSE')\n",
    "plt.legend(loc='center left', bbox_to_anchor=(.75, 0.4))"
   ]
  },
  {
   "cell_type": "code",
   "execution_count": null,
   "metadata": {
    "collapsed": true
   },
   "outputs": [],
   "source": []
  }
 ],
 "metadata": {
  "kernelspec": {
   "display_name": "Python [conda env:dlWorks]",
   "language": "python",
   "name": "conda-env-dlWorks-py"
  },
  "language_info": {
   "codemirror_mode": {
    "name": "ipython",
    "version": 3
   },
   "file_extension": ".py",
   "mimetype": "text/x-python",
   "name": "python",
   "nbconvert_exporter": "python",
   "pygments_lexer": "ipython3",
   "version": "3.5.4"
  }
 },
 "nbformat": 4,
 "nbformat_minor": 2
}
